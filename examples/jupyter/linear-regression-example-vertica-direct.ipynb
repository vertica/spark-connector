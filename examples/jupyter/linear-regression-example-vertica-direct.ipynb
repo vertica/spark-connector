{
 "cells": [
  {
   "cell_type": "markdown",
   "id": "d58b1b3b-00ac-4c36-b15b-011776f39fff",
   "metadata": {},
   "source": [
    "# Linear Regression - Vertica Direct\n",
    "\n",
    "This example contains a demo of using Vertica's Linear Regression algorithm along with the Vertica database directly. \n",
    "\n",
    "Old Faithful is a geyser that sits in Yellowstone National Park. Using Linear Regression we want to train a model that can predict how long an eruption will be based off the time taken between eruptions."
   ]
  },
  {
   "cell_type": "markdown",
   "id": "659adca9-041a-4644-8a1d-bbe6b2c56ad4",
   "metadata": {
    "tags": []
   },
   "source": [
    "## Vertica Setup\n",
    "\n",
    "First we need to set everything up. We'll start by installing vertica-python so that we can communicate to Vertica using Python. Additionally we'll throw in PrettyTable so that we can read information in a nice format."
   ]
  },
  {
   "cell_type": "code",
   "execution_count": null,
   "id": "3cef4d75-e4dd-4074-9075-c9fb03df0a8f",
   "metadata": {
    "tags": []
   },
   "outputs": [],
   "source": [
    "%%bash\n",
    "\n",
    "pip install vertica-python PrettyTable"
   ]
  },
  {
   "cell_type": "markdown",
   "id": "8b93bd13-7175-4477-9098-95b04bd1da9e",
   "metadata": {},
   "source": [
    "Now we can fill out the information vertica-python needs in order to establish a connection."
   ]
  },
  {
   "cell_type": "code",
   "execution_count": null,
   "id": "89f9c76b-139a-4a62-9133-ede20ad03fe0",
   "metadata": {
    "tags": []
   },
   "outputs": [],
   "source": [
    "import vertica_python, math\n",
    "from prettytable import from_db_cursor\n",
    "\n",
    "conn_info = {'host': 'vertica',\n",
    "             'port': 5433,\n",
    "             'user': 'dbadmin',\n",
    "             'password': '',\n",
    "             'database': 'docker'}"
   ]
  },
  {
   "cell_type": "markdown",
   "id": "364052c7-b95a-4ff6-8297-97e025458e34",
   "metadata": {},
   "source": [
    "## Import Data\n",
    "\n",
    "Our Faithful dataset has been randomly split up into two. One for training the model and one for testing it. Both sets are stored in a local .csv, so let's open them and copy them. Then we can write each one to Vertica to their respective tables \"faithful_training\" and \"faithful_testing.\""
   ]
  },
  {
   "cell_type": "code",
   "execution_count": null,
   "id": "e1d01860-ac95-47d6-9d80-2a2091025993",
   "metadata": {
    "tags": []
   },
   "outputs": [],
   "source": [
    "with vertica_python.connect(**conn_info) as conn:\n",
    "\n",
    "    cur = conn.cursor()\n",
    "    cur.execute(\"DROP TABLE IF EXISTS faithful_training; CREATE TABLE faithful_training (id int, eruptions float, waiting int);\")\n",
    "    \n",
    "    with open(\"/home/jovyan/work/data/faithful_training.csv\", \"rb\") as fs:\n",
    "        cur.copy(\"COPY faithful_training FROM STDIN DELIMITER ',' ENCLOSED BY '\\\"' SKIP 1\", fs, buffer_size=65536)\n",
    "\n",
    "    cur.execute(\"DROP TABLE IF EXISTS faithful_testing; CREATE TABLE faithful_testing (id int, eruptions float, waiting int);\")\n",
    "    \n",
    "    with open(\"/home/jovyan/work/data/faithful_testing.csv\", \"rb\") as fs:\n",
    "        cur.copy(\"COPY faithful_testing FROM STDIN DELIMITER ',' ENCLOSED BY '\\\"' SKIP 1\", fs, buffer_size=65536)"
   ]
  },
  {
   "cell_type": "markdown",
   "id": "f8ae239f-a669-4702-935b-98f0e036c5d4",
   "metadata": {},
   "source": [
    "Now let's give Vertica a read so we can see what the data looks like by running a SELECT on faithful_training."
   ]
  },
  {
   "cell_type": "code",
   "execution_count": null,
   "id": "9ec4b8f2-a797-48b5-b69e-c4566bccef3b",
   "metadata": {
    "tags": []
   },
   "outputs": [],
   "source": [
    "with vertica_python.connect(**conn_info) as conn:\n",
    "    cur = conn.cursor()\n",
    "\n",
    "    cur.execute(\"SELECT * FROM faithful_training LIMIT 20;\")\n",
    "\n",
    "    print(\"Data of the Old Faithful geyser in Yellowstone National Park.\")\n",
    "    print(\"eruptions = duration of eruption \\nwaiting = time between eruptions\")\n",
    "    print(from_db_cursor(cur))"
   ]
  },
  {
   "cell_type": "markdown",
   "id": "2e1e2e8d-d991-4292-bf74-f0fbd0ab3b69",
   "metadata": {},
   "source": [
    "## Train Model\n",
    "\n",
    "Linear Regression analyzes the relationship between an independant and dependant variable using a line of best fit. The dependant variable (eruptions) is what we are trying to predict, whereas the independant variables consists of our features that we are using to make our model. In this case we just have the one variable \"waiting\", and this will compose our features.\n",
    "\n",
    "In this SELECT command we are building our model. We will call this model \"linear_reg_faithful\" and training it with the dataset from \"faithful_training.\" We want to predict the \"eruptions\" column with our features that consist of \"waiting.\" "
   ]
  },
  {
   "cell_type": "code",
   "execution_count": null,
   "id": "78454cae-fee9-423e-b10a-fbddc5ef62ef",
   "metadata": {
    "tags": []
   },
   "outputs": [],
   "source": [
    "with vertica_python.connect(**conn_info) as conn:\n",
    "\n",
    "    cur = conn.cursor()\n",
    "\n",
    "    cur.execute(\"SELECT LINEAR_REG('linear_reg_faithful', 'faithful_training',\\\n",
    "    'eruptions', 'waiting' USING PARAMETERS optimizer='BFGS');\")\n",
    "\n",
    "    print(cur.fetchall())"
   ]
  },
  {
   "cell_type": "markdown",
   "id": "7368fa21-90de-486d-960e-042a447f8f2e",
   "metadata": {},
   "source": [
    "## Test Model\n",
    "\n",
    "Now that our Regression Model has been built it's time to see its predictions. To do this we will create a faithful_predictions table and we will include a new column called \"pred\" that uses our predicted values. We will then lay this new column against our training set to match the ID of the eruption."
   ]
  },
  {
   "cell_type": "code",
   "execution_count": null,
   "id": "d9516237-9aa0-4298-b218-b1ccc6f51cdc",
   "metadata": {
    "tags": []
   },
   "outputs": [],
   "source": [
    "with vertica_python.connect(**conn_info) as conn:\n",
    "\n",
    "    cur = conn.cursor()\n",
    "\n",
    "    cur.execute(\"DROP TABLE IF EXISTS faithful_predictions; CREATE TABLE \\\n",
    "    faithful_predictions AS (SELECT id, eruptions, PREDICT_LINEAR_REG(waiting \\\n",
    "    USING PARAMETERS model_name='linear_reg_faithful') AS pred FROM faithful_testing);\")\n",
    "\n",
    "    cur.execute(\"SELECT id, pred FROM faithful_predictions LIMIT 20;\")\n",
    "\n",
    "    print(from_db_cursor(cur))\n"
   ]
  },
  {
   "cell_type": "markdown",
   "id": "628a290f-2343-4ab0-a3d7-364c569a95e2",
   "metadata": {},
   "source": [
    "## Results\n",
    "\n",
    "Our Linear Regression model has been created and we've displayed its predictions. Now let's SELECT the rest of the columns from our combined predictions - faithful_testing table to see how close we really were. Afterwards, let's fetch the Mean Squared Error so we can see how our predictions faired."
   ]
  },
  {
   "cell_type": "code",
   "execution_count": null,
   "id": "3a9d4c53-281f-4a9f-992f-5ffd008a624f",
   "metadata": {
    "tags": []
   },
   "outputs": [],
   "source": [
    "with vertica_python.connect(**conn_info) as conn:\n",
    "\n",
    "    cur = conn.cursor()\n",
    "\n",
    "    cur.execute(\"SELECT * FROM faithful_predictions ORDER BY id LIMIT 20;\")\n",
    "\n",
    "    print(from_db_cursor(cur))\n",
    "\n",
    "    cur.execute(\"SELECT MSE (eruptions::float, pred::float) OVER() FROM (SELECT\\\n",
    "    eruptions, pred FROM faithful_predictions) AS prediction_output;\")\n",
    "\n",
    "    print(from_db_cursor(cur))\n",
    "\n",
    "    cur.execute(\"SELECT RSQUARED (eruptions::float, pred::float) OVER() FROM (\\\n",
    "    SELECT eruptions, pred FROM faithful_predictions) AS prediction_output;\")\n",
    "\n",
    "    print(from_db_cursor(cur))\n",
    "\n"
   ]
  },
  {
   "cell_type": "markdown",
   "id": "9700c676-f7a7-4cec-8c3e-868dc716db0f",
   "metadata": {},
   "source": [
    "So we've arrived at our Mean Squared Error. Since this is squared error however, let's root it to get our Root Mean Squared Error. This value will gives us something more comparable in terms of the same unit dimensions."
   ]
  },
  {
   "cell_type": "code",
   "execution_count": null,
   "id": "3d70b5d0-f308-4184-b8d2-00cb95c1f6b8",
   "metadata": {
    "tags": []
   },
   "outputs": [],
   "source": [
    "with vertica_python.connect(**conn_info) as conn:\n",
    "\n",
    "    cur = conn.cursor()\n",
    "    cur.execute(\"SELECT MSE (eruptions::float, pred::float) OVER() FROM (SELECT\\\n",
    "    eruptions, pred FROM faithful_predictions) AS prediction_output;\")\n",
    "\n",
    "    mse = cur.fetchall()[0][0]\n",
    "    print(\"RMSE: \" + str(math.sqrt(mse)))"
   ]
  },
  {
   "cell_type": "markdown",
   "id": "bb3e4c78-1c4d-4b35-814a-d5753f7198e1",
   "metadata": {},
   "source": [
    "**R Squared** is a calculation that provides us with a way of quantifying the relationship between our variables. \\\n",
    "It is a percentage, with 100% being a 1:1 relationship between our axis.\n",
    "\n",
    "**RMSE** is the average deviation of the dependant variables to the regression line. \\\n",
    "As such, a value closer to 0 means there is less deviation and therefore less error. Given our unit dimensions (minutes) An RMSE under 0.5 means the model can likely predict values accurately."
   ]
  }
 ],
 "metadata": {
  "kernelspec": {
   "display_name": "Python 3 (ipykernel)",
   "language": "python",
   "name": "python3"
  },
  "language_info": {
   "codemirror_mode": {
    "name": "ipython",
    "version": 3
   },
   "file_extension": ".py",
   "mimetype": "text/x-python",
   "name": "python",
   "nbconvert_exporter": "python",
   "pygments_lexer": "ipython3",
   "version": "3.10.9"
  },
  "vscode": {
   "interpreter": {
    "hash": "31f2aee4e71d21fbe5cf8b01ff0e069b9275f58929596ceb00d14d90e3e16cd6"
   }
  }
 },
 "nbformat": 4,
 "nbformat_minor": 5
}
