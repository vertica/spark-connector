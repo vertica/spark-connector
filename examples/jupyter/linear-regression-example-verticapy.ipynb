{
 "cells": [
  {
   "cell_type": "markdown",
   "id": "d58b1b3b-00ac-4c36-b15b-011776f39fff",
   "metadata": {},
   "source": [
    "# Linear Regression - VerticaPy\n",
    "\n",
    "This example contains a demo of using Vertica's Linear Regression algorithm along with the Vertica database using VerticaPy. \n",
    "\n",
    "Old Faithful is a geyser that sits in Yellowstone National Park. Using Linear Regression we want to train a model that can predict how long an eruption will be based off the time taken between eruptions."
   ]
  },
  {
   "cell_type": "markdown",
   "id": "659adca9-041a-4644-8a1d-bbe6b2c56ad4",
   "metadata": {
    "tags": []
   },
   "source": [
    "## Vertica Setup\n",
    "\n",
    "Let's get our necessary tools installed and set up our connection with Vertica. To do this we will install VerticaPy, Vertica's Python API for Data Science. This toolkit allows a user to work with Vertica's in-database Machine Learning functions without requiring much (if any) use of SQL."
   ]
  },
  {
   "cell_type": "code",
   "execution_count": null,
   "id": "3cef4d75-e4dd-4074-9075-c9fb03df0a8f",
   "metadata": {
    "tags": []
   },
   "outputs": [],
   "source": [
    "pip install verticapy"
   ]
  },
  {
   "cell_type": "markdown",
   "id": "8b93bd13-7175-4477-9098-95b04bd1da9e",
   "metadata": {},
   "source": [
    "Now we can fill out the information VerticaPy needs in order to establish a connection."
   ]
  },
  {
   "cell_type": "code",
   "execution_count": null,
   "id": "89f9c76b-139a-4a62-9133-ede20ad03fe0",
   "metadata": {
    "tags": []
   },
   "outputs": [],
   "source": [
    "import verticapy as vp\n",
    "\n",
    "vp.new_connection({\"host\": \"vertica\", \n",
    "                   \"port\": \"5433\", \n",
    "                   \"database\": \"dbadmin\", \n",
    "                   \"password\": \"\", \n",
    "                   \"user\": \"dbadmin\"},\n",
    "                   name = \"MyVerticaConnection\")\n",
    "\n",
    "vp.connect(\"MyVerticaConnection\")"
   ]
  },
  {
   "cell_type": "markdown",
   "id": "364052c7-b95a-4ff6-8297-97e025458e34",
   "metadata": {},
   "source": [
    "## Import Data\n",
    "\n",
    "Our Faithful dataset has been randomly split up into two. One for training the model and one for testing it. Both sets are stored in a local .csv, so let's open them and copy them. We can then write each one to Vertica to their respective tables \"faithful_training\" and \"faithful_testing.\"\\\n",
    "Normally when performing training and testing in ML, we start one with one full dataset and use a function that randomly splits up the dataset. In our case however, we want the datasets the same across Vertica examples to be consistent with our training and results."
   ]
  },
  {
   "cell_type": "code",
   "execution_count": null,
   "id": "e1d01860-ac95-47d6-9d80-2a2091025993",
   "metadata": {
    "tags": []
   },
   "outputs": [],
   "source": [
    "vp.drop(name=\"public.faithful_training\")\n",
    "\n",
    "df_training = vp.read_csv(\"/spark-connector/examples/jupyter/data/faithful_training.csv\",  \n",
    "                            table_name = \"faithful_training\",\n",
    "                            schema = \"public\",\n",
    "                            quotechar = '\"',\n",
    "                            sep = \",\",\n",
    "                            na_rep = \"\")\n",
    "\n",
    "vp.drop(name=\"public.faithful_testing\")\n",
    "\n",
    "df_testing = vp.read_csv(\"/spark-connector/examples/jupyter/data/faithful_testing.csv\",  \n",
    "                            table_name = \"faithful_testing\",\n",
    "                            schema = \"public\",\n",
    "                            quotechar = '\"',\n",
    "                            sep = \",\",\n",
    "                            na_rep = \"\")"
   ]
  },
  {
   "cell_type": "markdown",
   "id": "f8ae239f-a669-4702-935b-98f0e036c5d4",
   "metadata": {},
   "source": [
    "Now let's give Vertica a read so we can see what the data looks like by running a SELECT on faithful_training."
   ]
  },
  {
   "cell_type": "code",
   "execution_count": null,
   "id": "9ec4b8f2-a797-48b5-b69e-c4566bccef3b",
   "metadata": {
    "tags": []
   },
   "outputs": [],
   "source": [
    "print(\"Data of the Old Faithful geyser in Yellowstone National Park.\")\n",
    "print(\"eruptions = duration of eruption \\nwaiting = time between eruptions\")\n",
    "\n",
    "df_training"
   ]
  },
  {
   "cell_type": "markdown",
   "id": "2e1e2e8d-d991-4292-bf74-f0fbd0ab3b69",
   "metadata": {},
   "source": [
    "## Train Model\n",
    "\n",
    "Linear Regression analyzes the relationship between an independant and dependant variable using a line of best fit. The dependant variable (eruptions) is what we are trying to predict, whereas the independant variables consists of our features that we are using to make our model. In this case we just have the one variable \"waiting\", and this will compose our features."
   ]
  },
  {
   "cell_type": "code",
   "execution_count": null,
   "id": "78454cae-fee9-423e-b10a-fbddc5ef62ef",
   "metadata": {
    "tags": []
   },
   "outputs": [],
   "source": [
    "from verticapy.learn.linear_model import LinearRegression\n",
    "\n",
    "model = LinearRegression(\"LR_faithful\")\n",
    "\n",
    "model.fit(df_training, [\"waiting\"], \"eruptions\")\n",
    "model.plot()"
   ]
  },
  {
   "cell_type": "markdown",
   "id": "6635f97b-cc40-4af7-8892-5948e5205c38",
   "metadata": {},
   "source": [
    "A Linear Regression model is noteworthy if the our datapoints lie close to our line of best fit. This shows that there is high relation between our training columns."
   ]
  },
  {
   "cell_type": "markdown",
   "id": "7368fa21-90de-486d-960e-042a447f8f2e",
   "metadata": {},
   "source": [
    "## Test Model\n",
    "\n",
    "Now that our Regression Model has been built it's time to see its predictions. To do this we will use the predict method, creating a \"predictions\" column and laying it against our taithful_testing set."
   ]
  },
  {
   "cell_type": "code",
   "execution_count": null,
   "id": "d9516237-9aa0-4298-b218-b1ccc6f51cdc",
   "metadata": {
    "tags": []
   },
   "outputs": [],
   "source": [
    "model.predict(df_testing, name = \"predictions\")"
   ]
  },
  {
   "cell_type": "markdown",
   "id": "628a290f-2343-4ab0-a3d7-364c569a95e2",
   "metadata": {},
   "source": [
    "## Results\n",
    "\n",
    "Our Linear Regression model has been created and we've displayed its predictions. Now let's see some statistics regarding our model to see how it held up."
   ]
  },
  {
   "cell_type": "code",
   "execution_count": null,
   "id": "3a9d4c53-281f-4a9f-992f-5ffd008a624f",
   "metadata": {
    "tags": []
   },
   "outputs": [],
   "source": [
    "model.report()"
   ]
  },
  {
   "cell_type": "markdown",
   "id": "bb3e4c78-1c4d-4b35-814a-d5753f7198e1",
   "metadata": {},
   "source": [
    "**R Squared** is a calculation that provides us with a way of quantifying the relationship between our variables. \\\n",
    "It is a percentage, with 100% being a 1:1 relationship between our axis.\n",
    "\n",
    "**RMSE** is the average deviation of the dependant variables to the regression line. \\\n",
    "As such, a value closer to 0 means there is less deviation and therefore less error. Given our unit dimensions (minutes) An RMSE under 0.5 means the model can likely predict values accurately."
   ]
  }
 ],
 "metadata": {
  "kernelspec": {
   "display_name": "Python 3 (ipykernel)",
   "language": "python",
   "name": "python3"
  },
  "language_info": {
   "codemirror_mode": {
    "name": "ipython",
    "version": 3
   },
   "file_extension": ".py",
   "mimetype": "text/x-python",
   "name": "python",
   "nbconvert_exporter": "python",
   "pygments_lexer": "ipython3",
   "version": "3.10.9"
  },
  "vscode": {
   "interpreter": {
    "hash": "31f2aee4e71d21fbe5cf8b01ff0e069b9275f58929596ceb00d14d90e3e16cd6"
   }
  }
 },
 "nbformat": 4,
 "nbformat_minor": 5
}
