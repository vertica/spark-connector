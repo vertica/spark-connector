{
 "cells": [
  {
   "cell_type": "code",
   "execution_count": 1,
   "id": "8a9fa45a-9d7b-4cfb-8912-b4082032af61",
   "metadata": {},
   "outputs": [
    {
     "name": "stdout",
     "output_type": "stream",
     "text": [
      "/spark-connector/connector/target/scala-2.12/spark-vertica-connector-assembly-3.3.5.jar\n"
     ]
    }
   ],
   "source": [
    "# Get Connector JAR name\n",
    "import glob\n",
    "import os\n",
    "\n",
    "files = glob.glob(\"/spark-connector/connector/target/scala-2.12/spark-vertica-connector-assembly-*\")\n",
    "os.environ[\"CONNECTOR_JAR\"] = files[0]\n",
    "print(os.environ[\"CONNECTOR_JAR\"])"
   ]
  },
  {
   "cell_type": "code",
   "execution_count": 2,
   "id": "49796cae-62fe-4309-ac18-a27a97a47d44",
   "metadata": {},
   "outputs": [],
   "source": [
    "# Create the Spark session and context\n",
    "from pyspark.sql import SparkSession\n",
    "\n",
    "spark = (SparkSession.builder\n",
    "    .config(\"spark.master\", \"spark://spark:7077\")\n",
    "    .config(\"spark.driver.memory\", \"2G\")\n",
    "    .config(\"spark.executor.memory\", \"1G\")\n",
    "    .config(\"spark.jars\", os.environ[\"CONNECTOR_JAR\"])\n",
    "    .getOrCreate())\n",
    "sc = spark.sparkContext"
   ]
  },
  {
   "cell_type": "code",
   "execution_count": 3,
   "id": "f08f7433-d786-403a-92ba-4e28b0f2caf7",
   "metadata": {},
   "outputs": [
    {
     "name": "stdout",
     "output_type": "stream",
     "text": [
      "3.3.1\n",
      "spark://spark:7077\n"
     ]
    },
    {
     "data": {
      "text/plain": [
       "[('spark.driver.extraJavaOptions',\n",
       "  '-XX:+IgnoreUnrecognizedVMOptions --add-opens=java.base/java.lang=ALL-UNNAMED --add-opens=java.base/java.lang.invoke=ALL-UNNAMED --add-opens=java.base/java.lang.reflect=ALL-UNNAMED --add-opens=java.base/java.io=ALL-UNNAMED --add-opens=java.base/java.net=ALL-UNNAMED --add-opens=java.base/java.nio=ALL-UNNAMED --add-opens=java.base/java.util=ALL-UNNAMED --add-opens=java.base/java.util.concurrent=ALL-UNNAMED --add-opens=java.base/java.util.concurrent.atomic=ALL-UNNAMED --add-opens=java.base/sun.nio.ch=ALL-UNNAMED --add-opens=java.base/sun.nio.cs=ALL-UNNAMED --add-opens=java.base/sun.security.action=ALL-UNNAMED --add-opens=java.base/sun.util.calendar=ALL-UNNAMED --add-opens=java.security.jgss/sun.security.krb5=ALL-UNNAMED'),\n",
       " ('spark.driver.memory', '2G'),\n",
       " ('spark.master', 'spark://spark:7077'),\n",
       " ('spark.repl.local.jars',\n",
       "  'file:///spark-connector/connector/target/scala-2.12/spark-vertica-connector-assembly-3.3.5.jar'),\n",
       " ('spark.jars',\n",
       "  '/spark-connector/connector/target/scala-2.12/spark-vertica-connector-assembly-3.3.5.jar'),\n",
       " ('spark.executor.id', 'driver'),\n",
       " ('spark.driver.port', '41151'),\n",
       " ('spark.executor.memory', '1G'),\n",
       " ('spark.app.name', 'pyspark-shell'),\n",
       " ('spark.app.startTime', '1672946335509'),\n",
       " ('spark.driver.host', '5f45ae7ce680'),\n",
       " ('spark.rdd.compress', 'True'),\n",
       " ('spark.executor.extraJavaOptions',\n",
       "  '-XX:+IgnoreUnrecognizedVMOptions --add-opens=java.base/java.lang=ALL-UNNAMED --add-opens=java.base/java.lang.invoke=ALL-UNNAMED --add-opens=java.base/java.lang.reflect=ALL-UNNAMED --add-opens=java.base/java.io=ALL-UNNAMED --add-opens=java.base/java.net=ALL-UNNAMED --add-opens=java.base/java.nio=ALL-UNNAMED --add-opens=java.base/java.util=ALL-UNNAMED --add-opens=java.base/java.util.concurrent=ALL-UNNAMED --add-opens=java.base/java.util.concurrent.atomic=ALL-UNNAMED --add-opens=java.base/sun.nio.ch=ALL-UNNAMED --add-opens=java.base/sun.nio.cs=ALL-UNNAMED --add-opens=java.base/sun.security.action=ALL-UNNAMED --add-opens=java.base/sun.util.calendar=ALL-UNNAMED --add-opens=java.security.jgss/sun.security.krb5=ALL-UNNAMED'),\n",
       " ('spark.serializer.objectStreamReset', '100'),\n",
       " ('spark.submit.pyFiles', ''),\n",
       " ('spark.submit.deployMode', 'client'),\n",
       " ('spark.app.id', 'app-20230105191856-0001'),\n",
       " ('spark.app.initial.jar.urls',\n",
       "  'spark://5f45ae7ce680:41151/jars/spark-vertica-connector-assembly-3.3.5.jar'),\n",
       " ('spark.ui.showConsoleProgress', 'true'),\n",
       " ('spark.app.submitTime', '1672946335349')]"
      ]
     },
     "metadata": {},
     "output_type": "display_data"
    }
   ],
   "source": [
    "# Display the context information\n",
    "print(sc.version)\n",
    "print(sc.master)\n",
    "display(sc.getConf().getAll())"
   ]
  },
  {
   "cell_type": "code",
   "execution_count": null,
   "id": "7cebb786-6ca8-4875-92d7-02cb94d50409",
   "metadata": {},
   "outputs": [],
   "source": [
    "# Perform a write with complex arrays then read using the Spark Connector\n",
    "\n",
    "tableName = \"Complex_Array_Examples\"\n",
    "\n",
    "from pyspark.sql.types import StringType, ArrayType,StructType,StructField, IntegerType, Row\n",
    "\n",
    "schema = StructType([StructField(\"native_array\", ArrayType(IntegerType())), \n",
    "                     StructField(\"nested_array\", ArrayType(ArrayType(IntegerType()))),\n",
    "                     StructField(\"internal_map\", ArrayType(StructType([\n",
    "                              StructField(\"key\", StringType()),\n",
    "                              StructField(\"value\", IntegerType()),\n",
    "                            ])))])\n",
    "\n",
    "data = [Row([1234567], [[1,2], [3, 4]], [[\"key1\", 5], [\"key2\", 6]])]\n",
    "df = spark.createDataFrame(spark.sparkContext.parallelize(data), schema).coalesce(1)\n",
    "\n",
    "df.write.mode(\"overwrite\").format(\"com.vertica.spark.datasource.VerticaSource\").options(\n",
    "    host=\"vertica\",\n",
    "    user=\"dbadmin\",\n",
    "    password=\"\",\n",
    "    db=\"docker\",\n",
    "    table = tableName,\n",
    "    staging_fs_url=\"webhdfs://hdfs:50070/jupytertest\").save()\n",
    "\n",
    "df = spark.read.load(format=\"com.vertica.spark.datasource.VerticaSource\",\n",
    "    host=\"vertica\",\n",
    "    user=\"dbadmin\",\n",
    "    password=\"\",\n",
    "    db=\"docker\",\n",
    "    table= tableName,\n",
    "    staging_fs_url=\"webhdfs://hdfs:50070/jupytertest\")\n",
    "df.rdd.collect()\n",
    "df.show()"
   ]
  },
  {
   "cell_type": "code",
   "execution_count": null,
   "id": "13b0ba26-16db-4a11-81a4-f5d1ea885df8",
   "metadata": {},
   "outputs": [],
   "source": []
  }
 ],
 "metadata": {
  "kernelspec": {
   "display_name": "Python 3 (ipykernel)",
   "language": "python",
   "name": "python3"
  },
  "language_info": {
   "codemirror_mode": {
    "name": "ipython",
    "version": 3
   },
   "file_extension": ".py",
   "mimetype": "text/x-python",
   "name": "python",
   "nbconvert_exporter": "python",
   "pygments_lexer": "ipython3",
   "version": "3.10.8"
  }
 },
 "nbformat": 4,
 "nbformat_minor": 5
}
