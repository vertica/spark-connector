{
 "cells": [
  {
   "cell_type": "markdown",
   "id": "e8e62ff1-0e43-4b76-b6ba-d9e362dd3d11",
   "metadata": {},
   "source": [
    "# Complex Array\n",
    "\n",
    "This example demonstrates how to read and write various arrays to Vertica. In particular, we will write a regular array, a nested array, and an array representative of a hash map."
   ]
  },
  {
   "cell_type": "markdown",
   "id": "c7605299-3dd0-4522-96bc-6735e14fbb09",
   "metadata": {
    "tags": []
   },
   "source": [
    "## Spark Setup\n",
    "\n",
    "First we start with the basics of setting up Spark to work with Vertica. To do this we need to create a Spark Context that has the Spark Connector passed through it as a configuration option."
   ]
  },
  {
   "cell_type": "code",
   "execution_count": null,
   "id": "8a9fa45a-9d7b-4cfb-8912-b4082032af61",
   "metadata": {},
   "outputs": [],
   "source": [
    "# Get Connector JAR name\n",
    "import glob\n",
    "import os\n",
    "\n",
    "files = glob.glob(\"/spark-connector/connector/target/scala-2.12/spark-vertica-connector-assembly-*\")\n",
    "os.environ[\"CONNECTOR_JAR\"] = files[0]\n",
    "print(os.environ[\"CONNECTOR_JAR\"])"
   ]
  },
  {
   "cell_type": "code",
   "execution_count": null,
   "id": "49796cae-62fe-4309-ac18-a27a97a47d44",
   "metadata": {},
   "outputs": [],
   "source": [
    "# Create the Spark session and context\n",
    "from pyspark.sql import SparkSession\n",
    "\n",
    "spark = (SparkSession.builder\n",
    "    .config(\"spark.master\", \"spark://spark:7077\")\n",
    "    .config(\"spark.driver.memory\", \"2G\")\n",
    "    .config(\"spark.executor.memory\", \"1G\")\n",
    "    .config(\"spark.jars\", os.environ[\"CONNECTOR_JAR\"])\n",
    "    .getOrCreate())\n",
    "sc = spark.sparkContext"
   ]
  },
  {
   "cell_type": "code",
   "execution_count": null,
   "id": "f08f7433-d786-403a-92ba-4e28b0f2caf7",
   "metadata": {},
   "outputs": [],
   "source": [
    "# Display the context information\n",
    "print(sc.version)\n",
    "print(sc.master)\n",
    "display(sc.getConf().getAll())"
   ]
  },
  {
   "cell_type": "markdown",
   "id": "2c346cce-0c39-4467-ad90-6a1359878063",
   "metadata": {
    "tags": []
   },
   "source": [
    "## Read/Write\n",
    "\n",
    "Now we can build the schema we want to use. Using Spark's Types we first create a StructType as this will define the structure of our Spark DataFrame. We then populate it with StructFields which represent a column in our table. Finally, we create a Row to fill out some example data."
   ]
  },
  {
   "cell_type": "code",
   "execution_count": null,
   "id": "7cebb786-6ca8-4875-92d7-02cb94d50409",
   "metadata": {},
   "outputs": [],
   "source": [
    "# Perform a write with complex arrays, then read using the Spark Connector\n",
    "from pyspark.sql.types import StringType, ArrayType, StructType, StructField, IntegerType, Row\n",
    "\n",
    "schema = StructType([StructField(\"native_array\", ArrayType(IntegerType())), \n",
    "                     StructField(\"nested_array\", ArrayType(ArrayType(IntegerType()))),\n",
    "                     StructField(\"internal_map\", ArrayType(StructType([\n",
    "                              StructField(\"key\", StringType()),\n",
    "                              StructField(\"value\", IntegerType()),\n",
    "                            ])))])\n",
    "data = [Row([1234567], [[1,2], [3, 4]], [[\"key1\", 5], [\"key2\", 6]])]"
   ]
  },
  {
   "cell_type": "markdown",
   "id": "0386fee8-0852-4ca5-871f-5437b5346672",
   "metadata": {},
   "source": [
    "We will now create our Spark DataFrame. However as we do that, we will also use the parallelize method to create an [RDD](https://spark.apache.org/docs/latest/rdd-programming-guide.html).\n",
    "\n",
    "Finally we write this DataFrame to Vertica into a table called \"Complex_Array_Examples,\" which we shortly read from and print out."
   ]
  },
  {
   "cell_type": "code",
   "execution_count": null,
   "id": "c7b66342-f051-44c2-8c91-3a535ef3c50a",
   "metadata": {},
   "outputs": [],
   "source": [
    "df = spark.createDataFrame(spark.sparkContext.parallelize(data), schema).coalesce(1)\n",
    "\n",
    "df.write.mode(\"overwrite\").format(\"com.vertica.spark.datasource.VerticaSource\").options(\n",
    "    host=\"vertica\",\n",
    "    user=\"dbadmin\",\n",
    "    password=\"\",\n",
    "    db=\"docker\",\n",
    "    table=\"Complex_Array_Examples\",\n",
    "    staging_fs_url=\"webhdfs://hdfs:50070/complextypes\").save()\n",
    "\n",
    "df = spark.read.load(format=\"com.vertica.spark.datasource.VerticaSource\",\n",
    "    host=\"vertica\",\n",
    "    user=\"dbadmin\",\n",
    "    password=\"\",\n",
    "    db=\"docker\",\n",
    "    table=\"Complex_Array_Examples\",\n",
    "    staging_fs_url=\"webhdfs://hdfs:50070/complextypes\")\n",
    "df.rdd.collect()\n",
    "df.show()"
   ]
  }
 ],
 "metadata": {
  "kernelspec": {
   "display_name": "Python 3 (ipykernel)",
   "language": "python",
   "name": "python3"
  },
  "language_info": {
   "codemirror_mode": {
    "name": "ipython",
    "version": 3
   },
   "file_extension": ".py",
   "mimetype": "text/x-python",
   "name": "python",
   "nbconvert_exporter": "python",
   "pygments_lexer": "ipython3",
   "version": "3.10.8"
  }
 },
 "nbformat": 4,
 "nbformat_minor": 5
}
